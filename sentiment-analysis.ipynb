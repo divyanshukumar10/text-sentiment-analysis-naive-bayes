{
 "cells": [
  {
   "cell_type": "code",
   "execution_count": 1,
   "metadata": {},
   "outputs": [],
   "source": [
    "import re\n",
    "import csv"
   ]
  },
  {
   "cell_type": "code",
   "execution_count": 2,
   "metadata": {},
   "outputs": [],
   "source": [
    "fh=open(\"dataset.csv\",\"r\")"
   ]
  },
  {
   "cell_type": "code",
   "execution_count": 3,
   "metadata": {},
   "outputs": [],
   "source": [
    "reader = csv.reader(fh, delimiter='+')"
   ]
  },
  {
   "cell_type": "code",
   "execution_count": 4,
   "metadata": {},
   "outputs": [],
   "source": [
    "dataset={}\n",
    "no_of_items={}\n",
    "feature_set={}\n",
    "\n",
    "for row in reader:\n",
    "    no_of_items.setdefault(row[1],0)\n",
    "\n",
    "    no_of_items[row[1]]+=1\n",
    "\n",
    "    dataset.setdefault(row[1],{})\n",
    "\n",
    "    split_data=re.split('[^a-zA-Z\\']',row[0])\n",
    "\n",
    "    for i in split_data:\n",
    "\n",
    "        if len(i) > 2:\n",
    "\n",
    "            dataset[row[1]].setdefault(i.lower(),0)\n",
    "\n",
    "            dataset[row[1]][i.lower()]+=1\n",
    "\n",
    "            feature_set.setdefault(i.lower(),{})\n",
    "\n",
    "            feature_set[i.lower()].setdefault(row[1],0)\n",
    "\n",
    "            feature_set[i.lower()][row[1]]+=1"
   ]
  },
  {
   "cell_type": "code",
   "execution_count": 6,
   "metadata": {},
   "outputs": [
    {
     "name": "stdout",
     "output_type": "stream",
     "text": [
      "Enter the sentence\n",
      "I want to end my life. i am not doing good in exmas\n",
      "negative\n"
     ]
    }
   ],
   "source": [
    "def calc_prob(word,category):\n",
    "\n",
    "    if word not in feature_set or word not in dataset[category]:\n",
    "        return 0\n",
    "\n",
    "    return float(dataset[category][word])/no_of_items[category]\n",
    "\n",
    "\n",
    "\n",
    "def weighted_prob(word,category):\n",
    "\n",
    "    basic_prob=calc_prob(word,category)\n",
    "\n",
    "\n",
    "    if word in feature_set:\n",
    "        tot=sum(feature_set[word].values())\n",
    "    else:\n",
    "        tot=0\n",
    "\n",
    "\n",
    "    weight_prob=((1.0*0.5)+(tot*basic_prob))/(1.0+tot)\n",
    "    return weight_prob\n",
    "\n",
    "\n",
    "def test_prob(test,category):\n",
    "    \n",
    "    split_data=re.split('[^a-zA-Z][\\'][ ]',test)\n",
    "    \n",
    "    data=[]\n",
    "    for i in split_data:\n",
    "        if ' ' in i:\n",
    "            i=i.split(' ')\n",
    "            for j in i:\n",
    "                if j not in data:\n",
    "                    data.append(j.lower())\n",
    "        elif len(i) > 2 and i not in data:\n",
    "            data.append(i.lower())\n",
    "\n",
    "    p=1\n",
    "    for i in data:\n",
    "        p*=weighted_prob(i,category)\n",
    "    return p\n",
    "\n",
    "def naive_bayes(test):\n",
    "    '''\n",
    "        p(A|B) = p(B|A) * p(A) / p(B)\n",
    "\n",
    "        Assume A - Category\n",
    "           B - Test data\n",
    "           p(A|B) - Category given the Test data\n",
    "\n",
    "        Here ignoring p(B) in the denominator (Since it remains same for every category)\n",
    "    '''\n",
    "    results={}\n",
    "    for i in dataset.keys():\n",
    "\n",
    "        cat_prob=float(no_of_items[i])/sum(no_of_items.values())\n",
    "\n",
    "\n",
    "        test_prob1=test_prob(test,i)\n",
    "\n",
    "        results[i]=test_prob1*cat_prob\n",
    "\n",
    "    return results\n",
    "\n",
    "print ('Enter the sentence')\n",
    "text=input()\n",
    "result=naive_bayes(text)\n",
    "\n",
    "if result['1'] > result['-1']:\n",
    "\tprint ('positive')\n",
    "else:\n",
    "\tprint ('negative')"
   ]
  },
  {
   "cell_type": "code",
   "execution_count": null,
   "metadata": {},
   "outputs": [],
   "source": []
  },
  {
   "cell_type": "code",
   "execution_count": null,
   "metadata": {},
   "outputs": [],
   "source": []
  },
  {
   "cell_type": "code",
   "execution_count": null,
   "metadata": {},
   "outputs": [],
   "source": []
  },
  {
   "cell_type": "code",
   "execution_count": null,
   "metadata": {},
   "outputs": [],
   "source": []
  },
  {
   "cell_type": "code",
   "execution_count": null,
   "metadata": {},
   "outputs": [],
   "source": []
  },
  {
   "cell_type": "code",
   "execution_count": null,
   "metadata": {},
   "outputs": [],
   "source": []
  },
  {
   "cell_type": "code",
   "execution_count": null,
   "metadata": {},
   "outputs": [],
   "source": []
  },
  {
   "cell_type": "code",
   "execution_count": null,
   "metadata": {},
   "outputs": [],
   "source": []
  },
  {
   "cell_type": "code",
   "execution_count": null,
   "metadata": {},
   "outputs": [],
   "source": []
  },
  {
   "cell_type": "code",
   "execution_count": null,
   "metadata": {},
   "outputs": [],
   "source": []
  },
  {
   "cell_type": "code",
   "execution_count": null,
   "metadata": {},
   "outputs": [],
   "source": []
  }
 ],
 "metadata": {
  "kernelspec": {
   "display_name": "Python 3",
   "language": "python",
   "name": "python3"
  },
  "language_info": {
   "codemirror_mode": {
    "name": "ipython",
    "version": 3
   },
   "file_extension": ".py",
   "mimetype": "text/x-python",
   "name": "python",
   "nbconvert_exporter": "python",
   "pygments_lexer": "ipython3",
   "version": "3.8.5"
  }
 },
 "nbformat": 4,
 "nbformat_minor": 4
}
